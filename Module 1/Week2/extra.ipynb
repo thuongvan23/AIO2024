{
 "cells": [
  {
   "cell_type": "code",
   "execution_count": 15,
   "metadata": {},
   "outputs": [
    {
     "data": {
      "text/plain": [
       "[5, 5, 5, 5, 10, 12, 33, 33]"
      ]
     },
     "execution_count": 15,
     "metadata": {},
     "output_type": "execute_result"
    }
   ],
   "source": [
    "def max_kernel(num_list,k) :\n",
    "    result = [] \n",
    "    # Your Code Here\n",
    "    for i in range(len(num_list)-k+1):\n",
    "        sub_list = num_list[i:i+k]\n",
    "        result.append(max(sub_list))\n",
    "    # End Code Here\n",
    "    return result\n",
    "\n",
    "assert max_kernel([3 , 4 , 5 , 1 , -44] , 3) == [5 , 5 , 5]\n",
    "num_list = [3 , 4 , 5 , 1 , -44 , 5 ,10 , 12 ,33 , 1]\n",
    "k = 3\n",
    "max_kernel(num_list,k)"
   ]
  },
  {
   "cell_type": "code",
   "execution_count": 17,
   "metadata": {},
   "outputs": [
    {
     "name": "stdout",
     "output_type": "stream",
     "text": [
      "{'s': 2, 'm': 1, 'i': 1, 'l': 1, 'e': 1, ' ': 1}\n"
     ]
    }
   ],
   "source": [
    "def character_count(word):\n",
    "    character_statistic = {}\n",
    "# Your Code Here\n",
    "    characters = list(word)\n",
    "    for chr in characters:\n",
    "        if chr in character_statistic:\n",
    "            character_statistic[chr] += 1\n",
    "        else:\n",
    "            character_statistic[chr] = 1\n",
    "# End Code Here\n",
    "    return character_statistic\n",
    "\n",
    "assert character_count(\"Baby\")== {'B': 1 , 'a': 1 , 'b': 1 , 'y': 1}\n",
    "print(character_count('smiles '))"
   ]
  },
  {
   "cell_type": "code",
   "execution_count": 21,
   "metadata": {},
   "outputs": [
    {
     "name": "stdout",
     "output_type": "stream",
     "text": [
      "6\n"
     ]
    }
   ],
   "source": [
    "def count_word (file_path) :\n",
    "    counter = {}\n",
    "\n",
    "    with open(file_path, 'r') as file:\n",
    "        while True:\n",
    "            line = file.readline()\n",
    "            if line == '':\n",
    "                break\n",
    "            line_list = line.split(\" \")\n",
    "            for word in line_list:\n",
    "                if word in counter:\n",
    "                    counter[word] += 1\n",
    "                else:\n",
    "                    counter[word] = 1\n",
    "\n",
    "    # Your Code Here\n",
    "\n",
    "    # End Code Here\n",
    "\n",
    "    return counter\n",
    "file_path = 'P1_data.txt'\n",
    "result = count_word(file_path)\n",
    "assert result ['who'] == 3\n",
    "print (result['man'])"
   ]
  },
  {
   "cell_type": "code",
   "execution_count": 25,
   "metadata": {},
   "outputs": [
    {
     "name": "stdout",
     "output_type": "stream",
     "text": [
      "3\n"
     ]
    }
   ],
   "source": [
    "def levenshtein_distance ( string1 , string2 ) :\n",
    "    m, n = len(string1), len(string2)\n",
    "    dp = [[0] * (n + 1) for _ in range(m + 1)]\n",
    "\n",
    "    # Khởi tạo hàng đầu tiên và cột đầu tiên của bảng\n",
    "    for i in range(m + 1):\n",
    "        dp[i][0] = i  # Chi phí khi chuyển từ chuỗi dài i thành chuỗi rỗng\n",
    "    for j in range(n + 1):\n",
    "        dp[0][j] = j  # Chi phí khi chuyển từ chuỗi rỗng thành chuỗi dài j\n",
    "\n",
    "    # Tính toán khoảng cách cho các phần tử còn lại\n",
    "    for i in range(1, m + 1):\n",
    "        for j in range(1, n + 1):\n",
    "            if string1[i - 1] == string2[j - 1]:\n",
    "                cost = 0  # Không cần thay thế nếu ký tự giống nhau\n",
    "            else:\n",
    "                cost = 1  # Chi phí thay thế nếu ký tự khác nhau\n",
    "\n",
    "            dp[i][j] = min(dp[i - 1][j] + 1,      # Chi phí xóa\n",
    "                           dp[i][j - 1] + 1,      # Chi phí chèn\n",
    "                           dp[i - 1][j - 1] + cost)  # Chi phí thay thế\n",
    "\n",
    "    return dp[m][n]\n",
    "\n",
    "assert levenshtein_distance (\"hi\", \"hello\") == 4.0\n",
    "print ( levenshtein_distance (\"hola \", \"hello\") )"
   ]
  }
 ],
 "metadata": {
  "kernelspec": {
   "display_name": "Test",
   "language": "python",
   "name": "python3"
  },
  "language_info": {
   "codemirror_mode": {
    "name": "ipython",
    "version": 3
   },
   "file_extension": ".py",
   "mimetype": "text/x-python",
   "name": "python",
   "nbconvert_exporter": "python",
   "pygments_lexer": "ipython3",
   "version": "3.11.4"
  }
 },
 "nbformat": 4,
 "nbformat_minor": 2
}
